{
  "nbformat": 4,
  "nbformat_minor": 0,
  "metadata": {
    "colab": {
      "provenance": [],
      "authorship_tag": "ABX9TyMD7gcsotFc6KTB0Exem0lB",
      "include_colab_link": true
    },
    "kernelspec": {
      "name": "python3",
      "display_name": "Python 3"
    },
    "language_info": {
      "name": "python"
    }
  },
  "cells": [
    {
      "cell_type": "markdown",
      "metadata": {
        "id": "view-in-github",
        "colab_type": "text"
      },
      "source": [
        "<a href=\"https://colab.research.google.com/github/juanfranbrv/crewAI/blob/main/crewAI_02.ipynb\" target=\"_parent\"><img src=\"https://colab.research.google.com/assets/colab-badge.svg\" alt=\"Open In Colab\"/></a>"
      ]
    },
    {
      "cell_type": "code",
      "execution_count": 5,
      "metadata": {
        "id": "2zbM4URgEZX_"
      },
      "outputs": [],
      "source": [
        "%%capture --no-stderr\n",
        "%pip install googletrans -U"
      ]
    },
    {
      "cell_type": "code",
      "source": [
        "from googletrans import Translator\n",
        "\n",
        "def traducir_texto(texto, leng1, leng2):\n",
        "    # Crear una instancia del traductor\n",
        "    traductor = Translator()\n",
        "\n",
        "    # Traducir el texto de leng1 a leng2\n",
        "    traduccion = traductor.translate(texto, src=leng1, dest=leng2)\n",
        "\n",
        "    # Devolver el texto traducido\n",
        "    return traduccion.text\n",
        "\n",
        "# Ejemplo de uso\n",
        "texto_original = \"Hola, ¿cómo estás?\"\n",
        "leng1 = 'es'  # Código de idioma para español\n",
        "leng2 = 'en'  # Código de idioma para inglés\n",
        "\n",
        "texto_traducido = traducir_texto(texto_original, leng1, leng2)\n",
        "print(f\"Texto original: {texto_original}\")\n",
        "print(f\"Texto traducido: {texto_traducido}\")"
      ],
      "metadata": {
        "colab": {
          "base_uri": "https://localhost:8080/"
        },
        "id": "VYM9G01VE2mb",
        "outputId": "34cf1c48-455f-4315-9f86-cd7b25603028"
      },
      "execution_count": 8,
      "outputs": [
        {
          "output_type": "stream",
          "name": "stdout",
          "text": [
            "Texto original: Hola, ¿cómo estás?\n",
            "Texto traducido: Hello how are you?\n"
          ]
        }
      ]
    }
  ]
}